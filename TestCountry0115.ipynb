{
 "cells": [
  {
   "cell_type": "code",
   "execution_count": 4,
   "metadata": {
    "scrolled": true
   },
   "outputs": [
    {
     "data": {
      "text/html": [
       "<div>\n",
       "<style scoped>\n",
       "    .dataframe tbody tr th:only-of-type {\n",
       "        vertical-align: middle;\n",
       "    }\n",
       "\n",
       "    .dataframe tbody tr th {\n",
       "        vertical-align: top;\n",
       "    }\n",
       "\n",
       "    .dataframe thead th {\n",
       "        text-align: right;\n",
       "    }\n",
       "</style>\n",
       "<table border=\"1\" class=\"dataframe\">\n",
       "  <thead>\n",
       "    <tr style=\"text-align: right;\">\n",
       "      <th></th>\n",
       "      <th>country</th>\n",
       "      <th>2016</th>\n",
       "      <th>2017</th>\n",
       "      <th>difference</th>\n",
       "      <th>growth</th>\n",
       "      <th>2016GDP</th>\n",
       "      <th>2017GDP</th>\n",
       "      <th>GDPgrowth</th>\n",
       "    </tr>\n",
       "  </thead>\n",
       "  <tbody>\n",
       "    <tr>\n",
       "      <th>0</th>\n",
       "      <td>Hong Kong</td>\n",
       "      <td>1902647</td>\n",
       "      <td>1773252</td>\n",
       "      <td>-129395</td>\n",
       "      <td>-7.30</td>\n",
       "      <td>320912</td>\n",
       "      <td>334104</td>\n",
       "      <td>3.95</td>\n",
       "    </tr>\n",
       "    <tr>\n",
       "      <th>1</th>\n",
       "      <td>China</td>\n",
       "      <td>3685477</td>\n",
       "      <td>3928352</td>\n",
       "      <td>242875</td>\n",
       "      <td>6.18</td>\n",
       "      <td>11232108</td>\n",
       "      <td>11937562</td>\n",
       "      <td>5.91</td>\n",
       "    </tr>\n",
       "    <tr>\n",
       "      <th>2</th>\n",
       "      <td>Japan</td>\n",
       "      <td>4295240</td>\n",
       "      <td>4615873</td>\n",
       "      <td>320633</td>\n",
       "      <td>6.95</td>\n",
       "      <td>4936543</td>\n",
       "      <td>4884489</td>\n",
       "      <td>-1.07</td>\n",
       "    </tr>\n",
       "    <tr>\n",
       "      <th>3</th>\n",
       "      <td>Korea</td>\n",
       "      <td>808420</td>\n",
       "      <td>888526</td>\n",
       "      <td>80106</td>\n",
       "      <td>9.02</td>\n",
       "      <td>1411042</td>\n",
       "      <td>1529743</td>\n",
       "      <td>7.76</td>\n",
       "    </tr>\n",
       "    <tr>\n",
       "      <th>4</th>\n",
       "      <td>Singapore</td>\n",
       "      <td>319915</td>\n",
       "      <td>326634</td>\n",
       "      <td>6719</td>\n",
       "      <td>2.06</td>\n",
       "      <td>296966</td>\n",
       "      <td>323902</td>\n",
       "      <td>8.32</td>\n",
       "    </tr>\n",
       "    <tr>\n",
       "      <th>5</th>\n",
       "      <td>Malaysia</td>\n",
       "      <td>245298</td>\n",
       "      <td>296370</td>\n",
       "      <td>51072</td>\n",
       "      <td>17.23</td>\n",
       "      <td>296536</td>\n",
       "      <td>314497</td>\n",
       "      <td>5.71</td>\n",
       "    </tr>\n",
       "    <tr>\n",
       "      <th>6</th>\n",
       "      <td>Thailand</td>\n",
       "      <td>532787</td>\n",
       "      <td>553804</td>\n",
       "      <td>21017</td>\n",
       "      <td>3.80</td>\n",
       "      <td>407109</td>\n",
       "      <td>455378</td>\n",
       "      <td>10.60</td>\n",
       "    </tr>\n",
       "    <tr>\n",
       "      <th>7</th>\n",
       "      <td>Philippines</td>\n",
       "      <td>231801</td>\n",
       "      <td>236597</td>\n",
       "      <td>4796</td>\n",
       "      <td>2.03</td>\n",
       "      <td>304906</td>\n",
       "      <td>313419</td>\n",
       "      <td>2.72</td>\n",
       "    </tr>\n",
       "    <tr>\n",
       "      <th>8</th>\n",
       "      <td>Indonesia</td>\n",
       "      <td>175738</td>\n",
       "      <td>177960</td>\n",
       "      <td>2222</td>\n",
       "      <td>1.25</td>\n",
       "      <td>932448</td>\n",
       "      <td>1010937</td>\n",
       "      <td>7.76</td>\n",
       "    </tr>\n",
       "    <tr>\n",
       "      <th>9</th>\n",
       "      <td>Vietnam</td>\n",
       "      <td>465944</td>\n",
       "      <td>564002</td>\n",
       "      <td>98058</td>\n",
       "      <td>17.39</td>\n",
       "      <td>205300</td>\n",
       "      <td>223900</td>\n",
       "      <td>8.31</td>\n",
       "    </tr>\n",
       "    <tr>\n",
       "      <th>10</th>\n",
       "      <td>Macao</td>\n",
       "      <td>598850</td>\n",
       "      <td>589147</td>\n",
       "      <td>-9703</td>\n",
       "      <td>-1.65</td>\n",
       "      <td>45310</td>\n",
       "      <td>50360</td>\n",
       "      <td>10.03</td>\n",
       "    </tr>\n",
       "    <tr>\n",
       "      <th>11</th>\n",
       "      <td>Myanmar</td>\n",
       "      <td>25196</td>\n",
       "      <td>26200</td>\n",
       "      <td>1004</td>\n",
       "      <td>3.83</td>\n",
       "      <td>65775</td>\n",
       "      <td>69320</td>\n",
       "      <td>5.11</td>\n",
       "    </tr>\n",
       "    <tr>\n",
       "      <th>12</th>\n",
       "      <td>Cambodia</td>\n",
       "      <td>67281</td>\n",
       "      <td>82888</td>\n",
       "      <td>15607</td>\n",
       "      <td>18.83</td>\n",
       "      <td>20020</td>\n",
       "      <td>22160</td>\n",
       "      <td>9.66</td>\n",
       "    </tr>\n",
       "  </tbody>\n",
       "</table>\n",
       "</div>"
      ],
      "text/plain": [
       "        country     2016     2017  difference  growth   2016GDP   2017GDP  \\\n",
       "0     Hong Kong  1902647  1773252     -129395   -7.30    320912    334104   \n",
       "1         China  3685477  3928352      242875    6.18  11232108  11937562   \n",
       "2         Japan  4295240  4615873      320633    6.95   4936543   4884489   \n",
       "3         Korea   808420   888526       80106    9.02   1411042   1529743   \n",
       "4     Singapore   319915   326634        6719    2.06    296966    323902   \n",
       "5      Malaysia   245298   296370       51072   17.23    296536    314497   \n",
       "6      Thailand   532787   553804       21017    3.80    407109    455378   \n",
       "7   Philippines   231801   236597        4796    2.03    304906    313419   \n",
       "8     Indonesia   175738   177960        2222    1.25    932448   1010937   \n",
       "9       Vietnam   465944   564002       98058   17.39    205300    223900   \n",
       "10        Macao   598850   589147       -9703   -1.65     45310     50360   \n",
       "11      Myanmar    25196    26200        1004    3.83     65775     69320   \n",
       "12     Cambodia    67281    82888       15607   18.83     20020     22160   \n",
       "\n",
       "    GDPgrowth  \n",
       "0        3.95  \n",
       "1        5.91  \n",
       "2       -1.07  \n",
       "3        7.76  \n",
       "4        8.32  \n",
       "5        5.71  \n",
       "6       10.60  \n",
       "7        2.72  \n",
       "8        7.76  \n",
       "9        8.31  \n",
       "10      10.03  \n",
       "11       5.11  \n",
       "12       9.66  "
      ]
     },
     "execution_count": 4,
     "metadata": {},
     "output_type": "execute_result"
    }
   ],
   "source": [
    "%matplotlib inline\n",
    "import matplotlib.pyplot as plt\n",
    "import pandas as pd\n",
    "import numpy as np\n",
    "\n",
    "# This is a custom matplotlib style that I use for most of my charts\n",
    "\n",
    "country_data = pd.read_csv('C:/Users/user/Desktop/test.csv')\n",
    "country_data"
   ]
  },
  {
   "cell_type": "markdown",
   "metadata": {},
   "source": [
    "圖中顯示2016到2017入境各個國家人數\n",
    "多數國家在2017人數皆些微成長"
   ]
  },
  {
   "cell_type": "code",
   "execution_count": 87,
   "metadata": {},
   "outputs": [
    {
     "data": {
      "text/plain": [
       "''"
      ]
     },
     "execution_count": 87,
     "metadata": {},
     "output_type": "execute_result"
    },
    {
     "data": {
      "image/png": "[encoded data removed]",
      "text/plain": [
       "<Figure size 1080x504 with 1 Axes>"
      ]
     },
     "metadata": {
      "needs_background": "light"
     },
     "output_type": "display_data"
    }
   ],
   "source": [
    "fig = plt.figure(figsize=(15, 7))\n",
    "ax1 = fig.add_subplot(111)\n",
    "\n",
    "for (i, row) in country_data.iterrows():\n",
    "    plt.bar([i - 0.2, i + 0.2], [row['2016'], row['2017']],\n",
    "            color=['#CC6699', '#008AB8'], width=0.4, align='center', edgecolor='none')\n",
    "    \n",
    "plt.xlim(-1, 13)\n",
    "plt.xticks(range(0, 13), country_data['country'], fontsize=11)\n",
    "plt.grid(False, axis='x')\n",
    "plt.yticks(np.arange(0, 5e6, 1e6),\n",
    "           ['{}m'.format(int(x / 1e6)) if x > 0 else 0 for x in np.arange(0, 5e6, 1e6)])\n",
    "plt.xlabel('Country')\n",
    "plt.ylabel('Number of people (millions)')\n",
    "\n",
    "plt.savefig('pop_pyramid_grouped.pdf')\n",
    ";"
   ]
  },
  {
   "cell_type": "markdown",
   "metadata": {},
   "source": [
    "DIFFERENCE\n",
    "各個國家在 2016到2017年間出入境的人數比較\n",
    "大部分國家為正成長，少數為負成長。"
   ]
  },
  {
   "cell_type": "code",
   "execution_count": 84,
   "metadata": {},
   "outputs": [
    {
     "data": {
      "text/plain": [
       "''"
      ]
     },
     "execution_count": 84,
     "metadata": {},
     "output_type": "execute_result"
    },
    {
     "data": {
      "image/png": "[encoded data removed]",
      "text/plain": [
       "<Figure size 1080x504 with 1 Axes>"
      ]
     },
     "metadata": {
      "needs_background": "light"
     },
     "output_type": "display_data"
    }
   ],
   "source": [
    "fig = plt.figure(figsize=(15, 7))\n",
    "ax1 = fig.add_subplot(111)\n",
    "for (i, row) in country_data.iterrows():\n",
    "    plt.bar([i], [row['difference']],\n",
    "            color=['#CC6699'], width=0.6, align='center', edgecolor='none')\n",
    "                               \n",
    "plt.xlim(-1, 13)\n",
    "plt.xticks(range(0, 13), country_data['country'], fontsize=11)\n",
    "plt.grid(False, axis='x')\n",
    "plt.yticks(np.arange(0, 4e5, 1e5),\n",
    "           ['{}m'.format(int(x / 1e5)) if x > 0 else 0 for x in np.arange(0, 4e5, 1e5)])\n",
    "plt.xlabel('Country')\n",
    "plt.ylabel('Number of people (billions)')\n",
    ";"
   ]
  },
  {
   "cell_type": "code",
   "execution_count": null,
   "metadata": {},
   "outputs": [],
   "source": [
    "GDP\n",
    "國內生產總值是國民經濟核算的核心指標，在衡量一個國家或地區經濟狀況和發展水準有相當的重要性，\n",
    "此一數值亦包括移住勞工的薪資在內。\n",
    "可以看出在出入境較高的國家不論在2016或2017都有極高的GDP"
   ]
  },
  {
   "cell_type": "code",
   "execution_count": 15,
   "metadata": {
    "scrolled": true
   },
   "outputs": [
    {
     "data": {
      "text/plain": [
       "''"
      ]
     },
     "execution_count": 15,
     "metadata": {},
     "output_type": "execute_result"
    },
    {
     "data": {
      "image/png": "[encoded data removed]",
      "text/plain": [
       "<Figure size 1080x504 with 1 Axes>"
      ]
     },
     "metadata": {
      "needs_background": "light"
     },
     "output_type": "display_data"
    }
   ],
   "source": [
    "fig = plt.figure(figsize=(15, 7))\n",
    "ax1 = fig.add_subplot(111)\n",
    "\n",
    "for (i, row) in country_data.iterrows():\n",
    "    plt.bar([i - 0.2, i + 0.2], [row['2016GDP'], row['2017GDP']],\n",
    "            color=['#CC6699', '#008AB8'], width=0.4, align='center', edgecolor='none')\n",
    "    \n",
    "plt.xlim(-1, 13)\n",
    "plt.xticks(range(0, 13), country_data['country'], fontsize=11)\n",
    "plt.grid(False, axis='x')\n",
    "plt.yticks(np.arange(0, 13000000, 1000000),\n",
    "           ['{}m'.format(int(x / 1000000)) if x > 0 else 0 for x in np.arange(0, 13000000, 1000000)])\n",
    "plt.xlabel('Country')\n",
    "plt.ylabel('Number of people (millions)')\n",
    "\n",
    "plt.savefig('pop_pyramid_grouped.pdf')\n",
    ";"
   ]
  },
  {
   "cell_type": "code",
   "execution_count": 100,
   "metadata": {},
   "outputs": [
    {
     "data": {
      "text/plain": [
       "0     1773252\n",
       "1     3928352\n",
       "2     4615873\n",
       "3      888526\n",
       "4      326634\n",
       "5      296370\n",
       "6      553804\n",
       "7      236597\n",
       "8      177960\n",
       "9      564002\n",
       "10     589147\n",
       "11      26200\n",
       "12      82888\n",
       "Name: 2017, dtype: int64"
      ]
     },
     "execution_count": 100,
     "metadata": {},
     "output_type": "execute_result"
    }
   ],
   "source": [
    "m = country_data['2017']\n",
    "m"
   ]
  },
  {
   "cell_type": "code",
   "execution_count": 103,
   "metadata": {},
   "outputs": [
    {
     "data": {
      "text/plain": [
       "0       334104\n",
       "1     11937562\n",
       "2      4884489\n",
       "3      1529743\n",
       "4       323902\n",
       "5       314497\n",
       "6       455378\n",
       "7       313419\n",
       "8      1010937\n",
       "9       223900\n",
       "10       50360\n",
       "11       69320\n",
       "12       22160\n",
       "Name: 2017GDP, dtype: int64"
      ]
     },
     "execution_count": 103,
     "metadata": {},
     "output_type": "execute_result"
    }
   ],
   "source": [
    "n = country_data['2017GDP']\n",
    "n"
   ]
  },
  {
   "cell_type": "markdown",
   "metadata": {},
   "source": [
    "RELATION \n",
    "x軸為2017入境各個國家的人數\n",
    "Y軸為2017該國家GDP總額\n",
    "當出入境人數增加時，該國當年GDP也隨之上升。\n",
    "推測在各國家觀光產業所佔生產毛額都有相當大的比例。\n",
    "可看出兩者有正相關關係。"
   ]
  },
  {
   "cell_type": "code",
   "execution_count": 104,
   "metadata": {
    "scrolled": true
   },
   "outputs": [
    {
     "data": {
      "text/plain": [
       "[<matplotlib.lines.Line2D at 0x28368da9588>]"
      ]
     },
     "execution_count": 104,
     "metadata": {},
     "output_type": "execute_result"
    },
    {
     "data": {
      "image/png": "[encoded data removed]",
      "text/plain": [
       "<Figure size 432x288 with 1 Axes>"
      ]
     },
     "metadata": {
      "needs_background": "light"
     },
     "output_type": "display_data"
    }
   ],
   "source": [
    "plt.plot(m,n, 'bo')"
   ]
  },
  {
   "cell_type": "code",
   "execution_count": 97,
   "metadata": {},
   "outputs": [
    {
     "data": {
      "text/plain": [
       "0     -7.30\n",
       "1      6.18\n",
       "2      6.95\n",
       "3      9.02\n",
       "4      2.06\n",
       "5     17.23\n",
       "6      3.80\n",
       "7      2.03\n",
       "8      1.25\n",
       "9     17.39\n",
       "10    -1.65\n",
       "11     3.83\n",
       "12    18.83\n",
       "Name: growth, dtype: float64"
      ]
     },
     "execution_count": 97,
     "metadata": {},
     "output_type": "execute_result"
    }
   ],
   "source": [
    "x = country_data['growth']\n",
    "x"
   ]
  },
  {
   "cell_type": "code",
   "execution_count": 98,
   "metadata": {},
   "outputs": [
    {
     "data": {
      "text/plain": [
       "0      3.95\n",
       "1      5.91\n",
       "2     -1.07\n",
       "3      7.76\n",
       "4      8.32\n",
       "5      5.71\n",
       "6     10.60\n",
       "7      2.72\n",
       "8      7.76\n",
       "9      8.31\n",
       "10    10.03\n",
       "11     5.11\n",
       "12     9.66\n",
       "Name: GDPgrowth, dtype: float64"
      ]
     },
     "execution_count": 98,
     "metadata": {},
     "output_type": "execute_result"
    }
   ],
   "source": [
    "y = country_data['GDPgrowth']\n",
    "y"
   ]
  },
  {
   "cell_type": "markdown",
   "metadata": {},
   "source": [
    "影響GDP成長因素有許多不同於原因\n",
    "拿日本和香港做比較\n",
    "從圖表中可見入境日本的人口數再2016到2017年間是成長的\n",
    "卻在這兩年間GDP些微下降\n",
    "相反的在兩年間入境香港的人數下降，GDP卻上升\n",
    "可得知雖然觀光經濟在國家GDP中佔有滿大的比重，但在某些國家中並非最為重要的部分。"
   ]
  },
  {
   "cell_type": "code",
   "execution_count": 99,
   "metadata": {},
   "outputs": [
    {
     "data": {
      "text/plain": [
       "[<matplotlib.lines.Line2D at 0x283692e0b38>]"
      ]
     },
     "execution_count": 99,
     "metadata": {},
     "output_type": "execute_result"
    },
    {
     "data": {
      "image/png": "[encoded data removed]",
      "text/plain": [
       "<Figure size 432x288 with 1 Axes>"
      ]
     },
     "metadata": {
      "needs_background": "light"
     },
     "output_type": "display_data"
    }
   ],
   "source": [
    "plt.plot(x,y, 'bo')"
   ]
  }
 ],
 "metadata": {
  "kernelspec": {
   "display_name": "Python 3",
   "language": "python",
   "name": "python3"
  },
  "language_info": {
   "codemirror_mode": {
    "name": "ipython",
    "version": 3
   },
   "file_extension": ".py",
   "mimetype": "text/x-python",
   "name": "python",
   "nbconvert_exporter": "python",
   "pygments_lexer": "ipython3",
   "version": "3.7.1"
  }
 },
 "nbformat": 4,
 "nbformat_minor": 2
}
